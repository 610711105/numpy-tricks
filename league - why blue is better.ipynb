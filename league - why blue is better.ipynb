{
 "cells": [
  {
   "cell_type": "code",
   "execution_count": 1,
   "metadata": {},
   "outputs": [],
   "source": [
    "import numpy as np\n",
    "import pandas as pd\n",
    "import matplotlib.pyplot as plt\n",
    "import seaborn as sns\n",
    "\n",
    "data = pd.read_csv('LeagueofLegends.csv')"
   ]
  },
  {
   "cell_type": "code",
   "execution_count": 2,
   "metadata": {},
   "outputs": [
    {
     "data": {
      "text/html": [
       "<div>\n",
       "<style scoped>\n",
       "    .dataframe tbody tr th:only-of-type {\n",
       "        vertical-align: middle;\n",
       "    }\n",
       "\n",
       "    .dataframe tbody tr th {\n",
       "        vertical-align: top;\n",
       "    }\n",
       "\n",
       "    .dataframe thead th {\n",
       "        text-align: right;\n",
       "    }\n",
       "</style>\n",
       "<table border=\"1\" class=\"dataframe\">\n",
       "  <thead>\n",
       "    <tr style=\"text-align: right;\">\n",
       "      <th></th>\n",
       "      <th>League</th>\n",
       "      <th>Year</th>\n",
       "      <th>Season</th>\n",
       "      <th>Type</th>\n",
       "      <th>blueTeamTag</th>\n",
       "      <th>bResult</th>\n",
       "      <th>rResult</th>\n",
       "      <th>redTeamTag</th>\n",
       "      <th>gamelength</th>\n",
       "      <th>golddiff</th>\n",
       "      <th>...</th>\n",
       "      <th>redMiddleChamp</th>\n",
       "      <th>goldredMiddle</th>\n",
       "      <th>redADC</th>\n",
       "      <th>redADCChamp</th>\n",
       "      <th>goldredADC</th>\n",
       "      <th>redSupport</th>\n",
       "      <th>redSupportChamp</th>\n",
       "      <th>goldredSupport</th>\n",
       "      <th>redBans</th>\n",
       "      <th>Address</th>\n",
       "    </tr>\n",
       "  </thead>\n",
       "  <tbody>\n",
       "    <tr>\n",
       "      <th>0</th>\n",
       "      <td>NALCS</td>\n",
       "      <td>2015</td>\n",
       "      <td>Spring</td>\n",
       "      <td>Season</td>\n",
       "      <td>TSM</td>\n",
       "      <td>1</td>\n",
       "      <td>0</td>\n",
       "      <td>C9</td>\n",
       "      <td>40</td>\n",
       "      <td>[0, 0, -14, -65, -268, -431, -488, -789, -494,...</td>\n",
       "      <td>...</td>\n",
       "      <td>Fizz</td>\n",
       "      <td>[475, 475, 552, 842, 1178, 1378, 1635, 1949, 2...</td>\n",
       "      <td>Sneaky</td>\n",
       "      <td>Sivir</td>\n",
       "      <td>[475, 475, 532, 762, 1097, 1469, 1726, 2112, 2...</td>\n",
       "      <td>LemonNation</td>\n",
       "      <td>Thresh</td>\n",
       "      <td>[515, 515, 577, 722, 911, 1042, 1194, 1370, 14...</td>\n",
       "      <td>['Tristana', 'Leblanc', 'Nidalee']</td>\n",
       "      <td>http://matchhistory.na.leagueoflegends.com/en/...</td>\n",
       "    </tr>\n",
       "    <tr>\n",
       "      <th>1</th>\n",
       "      <td>NALCS</td>\n",
       "      <td>2015</td>\n",
       "      <td>Spring</td>\n",
       "      <td>Season</td>\n",
       "      <td>CST</td>\n",
       "      <td>0</td>\n",
       "      <td>1</td>\n",
       "      <td>DIG</td>\n",
       "      <td>38</td>\n",
       "      <td>[0, 0, -26, -18, 147, 237, -152, 18, 88, -242,...</td>\n",
       "      <td>...</td>\n",
       "      <td>Azir</td>\n",
       "      <td>[475, 475, 552, 786, 1097, 1389, 1660, 1955, 2...</td>\n",
       "      <td>CoreJJ</td>\n",
       "      <td>Corki</td>\n",
       "      <td>[475, 475, 532, 868, 1220, 1445, 1732, 1979, 2...</td>\n",
       "      <td>KiWiKiD</td>\n",
       "      <td>Annie</td>\n",
       "      <td>[515, 515, 583, 752, 900, 1066, 1236, 1417, 15...</td>\n",
       "      <td>['RekSai', 'Janna', 'Leblanc']</td>\n",
       "      <td>http://matchhistory.na.leagueoflegends.com/en/...</td>\n",
       "    </tr>\n",
       "    <tr>\n",
       "      <th>2</th>\n",
       "      <td>NALCS</td>\n",
       "      <td>2015</td>\n",
       "      <td>Spring</td>\n",
       "      <td>Season</td>\n",
       "      <td>WFX</td>\n",
       "      <td>1</td>\n",
       "      <td>0</td>\n",
       "      <td>GV</td>\n",
       "      <td>40</td>\n",
       "      <td>[0, 0, 10, -60, 34, 37, 589, 1064, 1258, 913, ...</td>\n",
       "      <td>...</td>\n",
       "      <td>Azir</td>\n",
       "      <td>[475, 475, 533, 801, 1006, 1233, 1385, 1720, 1...</td>\n",
       "      <td>Cop</td>\n",
       "      <td>Corki</td>\n",
       "      <td>[475, 475, 533, 781, 1085, 1398, 1782, 1957, 2...</td>\n",
       "      <td>BunnyFuFuu</td>\n",
       "      <td>Janna</td>\n",
       "      <td>[515, 515, 584, 721, 858, 1002, 1168, 1303, 14...</td>\n",
       "      <td>['Leblanc', 'Zed', 'RekSai']</td>\n",
       "      <td>http://matchhistory.na.leagueoflegends.com/en/...</td>\n",
       "    </tr>\n",
       "    <tr>\n",
       "      <th>3</th>\n",
       "      <td>NALCS</td>\n",
       "      <td>2015</td>\n",
       "      <td>Spring</td>\n",
       "      <td>Season</td>\n",
       "      <td>TIP</td>\n",
       "      <td>0</td>\n",
       "      <td>1</td>\n",
       "      <td>TL</td>\n",
       "      <td>41</td>\n",
       "      <td>[0, 0, -15, 25, 228, -6, -243, 175, -346, 16, ...</td>\n",
       "      <td>...</td>\n",
       "      <td>Lulu</td>\n",
       "      <td>[475, 475, 532, 771, 1046, 1288, 1534, 1776, 2...</td>\n",
       "      <td>KEITH</td>\n",
       "      <td>KogMaw</td>\n",
       "      <td>[475, 475, 532, 766, 1161, 1438, 1776, 1936, 2...</td>\n",
       "      <td>Xpecial</td>\n",
       "      <td>Janna</td>\n",
       "      <td>[515, 515, 583, 721, 870, 1059, 1205, 1342, 15...</td>\n",
       "      <td>['RekSai', 'Rumble', 'LeeSin']</td>\n",
       "      <td>http://matchhistory.na.leagueoflegends.com/en/...</td>\n",
       "    </tr>\n",
       "    <tr>\n",
       "      <th>4</th>\n",
       "      <td>NALCS</td>\n",
       "      <td>2015</td>\n",
       "      <td>Spring</td>\n",
       "      <td>Season</td>\n",
       "      <td>CLG</td>\n",
       "      <td>1</td>\n",
       "      <td>0</td>\n",
       "      <td>T8</td>\n",
       "      <td>35</td>\n",
       "      <td>[40, 40, 44, -36, 113, 158, -121, -191, 23, 20...</td>\n",
       "      <td>...</td>\n",
       "      <td>Lulu</td>\n",
       "      <td>[475, 475, 532, 807, 1042, 1338, 1646, 1951, 2...</td>\n",
       "      <td>Maplestreet8</td>\n",
       "      <td>Corki</td>\n",
       "      <td>[475, 475, 532, 792, 1187, 1488, 1832, 2136, 2...</td>\n",
       "      <td>Dodo8</td>\n",
       "      <td>Annie</td>\n",
       "      <td>[475, 475, 538, 671, 817, 948, 1104, 1240, 136...</td>\n",
       "      <td>['Rumble', 'Sivir', 'Rengar']</td>\n",
       "      <td>http://matchhistory.na.leagueoflegends.com/en/...</td>\n",
       "    </tr>\n",
       "  </tbody>\n",
       "</table>\n",
       "<p>5 rows × 57 columns</p>\n",
       "</div>"
      ],
      "text/plain": [
       "  League  Year  Season    Type blueTeamTag  bResult  rResult redTeamTag  \\\n",
       "0  NALCS  2015  Spring  Season         TSM        1        0         C9   \n",
       "1  NALCS  2015  Spring  Season         CST        0        1        DIG   \n",
       "2  NALCS  2015  Spring  Season         WFX        1        0         GV   \n",
       "3  NALCS  2015  Spring  Season         TIP        0        1         TL   \n",
       "4  NALCS  2015  Spring  Season         CLG        1        0         T8   \n",
       "\n",
       "   gamelength                                           golddiff  ...  \\\n",
       "0          40  [0, 0, -14, -65, -268, -431, -488, -789, -494,...  ...   \n",
       "1          38  [0, 0, -26, -18, 147, 237, -152, 18, 88, -242,...  ...   \n",
       "2          40  [0, 0, 10, -60, 34, 37, 589, 1064, 1258, 913, ...  ...   \n",
       "3          41  [0, 0, -15, 25, 228, -6, -243, 175, -346, 16, ...  ...   \n",
       "4          35  [40, 40, 44, -36, 113, 158, -121, -191, 23, 20...  ...   \n",
       "\n",
       "  redMiddleChamp                                      goldredMiddle  \\\n",
       "0           Fizz  [475, 475, 552, 842, 1178, 1378, 1635, 1949, 2...   \n",
       "1           Azir  [475, 475, 552, 786, 1097, 1389, 1660, 1955, 2...   \n",
       "2           Azir  [475, 475, 533, 801, 1006, 1233, 1385, 1720, 1...   \n",
       "3           Lulu  [475, 475, 532, 771, 1046, 1288, 1534, 1776, 2...   \n",
       "4           Lulu  [475, 475, 532, 807, 1042, 1338, 1646, 1951, 2...   \n",
       "\n",
       "         redADC redADCChamp  \\\n",
       "0        Sneaky       Sivir   \n",
       "1        CoreJJ       Corki   \n",
       "2           Cop       Corki   \n",
       "3         KEITH      KogMaw   \n",
       "4  Maplestreet8       Corki   \n",
       "\n",
       "                                          goldredADC   redSupport  \\\n",
       "0  [475, 475, 532, 762, 1097, 1469, 1726, 2112, 2...  LemonNation   \n",
       "1  [475, 475, 532, 868, 1220, 1445, 1732, 1979, 2...      KiWiKiD   \n",
       "2  [475, 475, 533, 781, 1085, 1398, 1782, 1957, 2...   BunnyFuFuu   \n",
       "3  [475, 475, 532, 766, 1161, 1438, 1776, 1936, 2...      Xpecial   \n",
       "4  [475, 475, 532, 792, 1187, 1488, 1832, 2136, 2...        Dodo8   \n",
       "\n",
       "  redSupportChamp                                     goldredSupport  \\\n",
       "0          Thresh  [515, 515, 577, 722, 911, 1042, 1194, 1370, 14...   \n",
       "1           Annie  [515, 515, 583, 752, 900, 1066, 1236, 1417, 15...   \n",
       "2           Janna  [515, 515, 584, 721, 858, 1002, 1168, 1303, 14...   \n",
       "3           Janna  [515, 515, 583, 721, 870, 1059, 1205, 1342, 15...   \n",
       "4           Annie  [475, 475, 538, 671, 817, 948, 1104, 1240, 136...   \n",
       "\n",
       "                              redBans  \\\n",
       "0  ['Tristana', 'Leblanc', 'Nidalee']   \n",
       "1      ['RekSai', 'Janna', 'Leblanc']   \n",
       "2        ['Leblanc', 'Zed', 'RekSai']   \n",
       "3      ['RekSai', 'Rumble', 'LeeSin']   \n",
       "4       ['Rumble', 'Sivir', 'Rengar']   \n",
       "\n",
       "                                             Address  \n",
       "0  http://matchhistory.na.leagueoflegends.com/en/...  \n",
       "1  http://matchhistory.na.leagueoflegends.com/en/...  \n",
       "2  http://matchhistory.na.leagueoflegends.com/en/...  \n",
       "3  http://matchhistory.na.leagueoflegends.com/en/...  \n",
       "4  http://matchhistory.na.leagueoflegends.com/en/...  \n",
       "\n",
       "[5 rows x 57 columns]"
      ]
     },
     "execution_count": 2,
     "metadata": {},
     "output_type": "execute_result"
    }
   ],
   "source": [
    "data.head()"
   ]
  },
  {
   "cell_type": "code",
   "execution_count": 3,
   "metadata": {},
   "outputs": [
    {
     "name": "stdout",
     "output_type": "stream",
     "text": [
      "Blue wins: 4146\n",
      "Red wins: 3474\n"
     ]
    }
   ],
   "source": [
    "print('Blue wins:', data.bResult.sum())\n",
    "print('Red wins:', data.rResult.sum())"
   ]
  },
  {
   "cell_type": "code",
   "execution_count": 4,
   "metadata": {},
   "outputs": [
    {
     "data": {
      "text/plain": [
       "[<matplotlib.lines.Line2D at 0x2045b2e84e0>]"
      ]
     },
     "execution_count": 4,
     "metadata": {},
     "output_type": "execute_result"
    },
    {
     "data": {
      "image/png": "[encoded data removed]",
      "text/plain": [
       "<Figure size 432x288 with 1 Axes>"
      ]
     },
     "metadata": {
      "needs_background": "light"
     },
     "output_type": "display_data"
    }
   ],
   "source": [
    "redWinsLength = data.groupby('gamelength').rResult.sum()\n",
    "blueWinsLength = data.groupby('gamelength').bResult.sum()\n",
    "\n",
    "plt.plot(redWinsLength.index, redWinsLength, 'r-')\n",
    "plt.plot(blueWinsLength.index, blueWinsLength, 'b-')"
   ]
  },
  {
   "cell_type": "code",
   "execution_count": 5,
   "metadata": {},
   "outputs": [
    {
     "name": "stderr",
     "output_type": "stream",
     "text": [
      "C:\\Users\\asd84\\Anaconda3\\lib\\site-packages\\scipy\\stats\\stats.py:1713: FutureWarning: Using a non-tuple sequence for multidimensional indexing is deprecated; use `arr[tuple(seq)]` instead of `arr[seq]`. In the future this will be interpreted as an array index, `arr[np.array(seq)]`, which will result either in an error or a different result.\n",
      "  return np.add.reduce(sorted[indexer] * weights, axis=axis) / sumval\n"
     ]
    },
    {
     "data": {
      "text/plain": [
       "<matplotlib.axes._subplots.AxesSubplot at 0x204525b80b8>"
      ]
     },
     "execution_count": 5,
     "metadata": {},
     "output_type": "execute_result"
    },
    {
     "data": {
      "image/png": "[encoded data removed]",
      "text/plain": [
       "<Figure size 432x288 with 1 Axes>"
      ]
     },
     "metadata": {
      "needs_background": "light"
     },
     "output_type": "display_data"
    }
   ],
   "source": [
    "redWins = data[data.rResult == 1]\n",
    "blueWins = data[data.bResult == 1]\n",
    "\n",
    "sns.distplot(redWins.gamelength, color='red', hist=False)\n",
    "sns.distplot(blueWins.gamelength, color='blue', hist=False)"
   ]
  },
  {
   "cell_type": "code",
   "execution_count": 6,
   "metadata": {},
   "outputs": [
    {
     "data": {
      "text/html": [
       "<div>\n",
       "<style scoped>\n",
       "    .dataframe tbody tr th:only-of-type {\n",
       "        vertical-align: middle;\n",
       "    }\n",
       "\n",
       "    .dataframe tbody tr th {\n",
       "        vertical-align: top;\n",
       "    }\n",
       "\n",
       "    .dataframe thead th {\n",
       "        text-align: right;\n",
       "    }\n",
       "</style>\n",
       "<table border=\"1\" class=\"dataframe\">\n",
       "  <thead>\n",
       "    <tr style=\"text-align: right;\">\n",
       "      <th></th>\n",
       "      <th>Address</th>\n",
       "      <th>Type</th>\n",
       "      <th>minute</th>\n",
       "      <th>gold</th>\n",
       "    </tr>\n",
       "  </thead>\n",
       "  <tbody>\n",
       "    <tr>\n",
       "      <th>0</th>\n",
       "      <td>http://matchhistory.na.leagueoflegends.com/en/...</td>\n",
       "      <td>golddiff</td>\n",
       "      <td>1</td>\n",
       "      <td>0.0</td>\n",
       "    </tr>\n",
       "    <tr>\n",
       "      <th>1</th>\n",
       "      <td>http://matchhistory.na.leagueoflegends.com/en/...</td>\n",
       "      <td>golddiff</td>\n",
       "      <td>1</td>\n",
       "      <td>0.0</td>\n",
       "    </tr>\n",
       "    <tr>\n",
       "      <th>2</th>\n",
       "      <td>http://matchhistory.na.leagueoflegends.com/en/...</td>\n",
       "      <td>golddiff</td>\n",
       "      <td>1</td>\n",
       "      <td>0.0</td>\n",
       "    </tr>\n",
       "    <tr>\n",
       "      <th>3</th>\n",
       "      <td>http://matchhistory.na.leagueoflegends.com/en/...</td>\n",
       "      <td>golddiff</td>\n",
       "      <td>1</td>\n",
       "      <td>0.0</td>\n",
       "    </tr>\n",
       "    <tr>\n",
       "      <th>4</th>\n",
       "      <td>http://matchhistory.na.leagueoflegends.com/en/...</td>\n",
       "      <td>golddiff</td>\n",
       "      <td>1</td>\n",
       "      <td>40.0</td>\n",
       "    </tr>\n",
       "  </tbody>\n",
       "</table>\n",
       "</div>"
      ],
      "text/plain": [
       "                                             Address      Type  minute  gold\n",
       "0  http://matchhistory.na.leagueoflegends.com/en/...  golddiff       1   0.0\n",
       "1  http://matchhistory.na.leagueoflegends.com/en/...  golddiff       1   0.0\n",
       "2  http://matchhistory.na.leagueoflegends.com/en/...  golddiff       1   0.0\n",
       "3  http://matchhistory.na.leagueoflegends.com/en/...  golddiff       1   0.0\n",
       "4  http://matchhistory.na.leagueoflegends.com/en/...  golddiff       1  40.0"
      ]
     },
     "execution_count": 6,
     "metadata": {},
     "output_type": "execute_result"
    }
   ],
   "source": [
    "goldData = pd.read_csv('gold.csv')\n",
    "# Create minute column names for pd.melt()\n",
    "minutes = ['min_' + str(x + 1) for x in range(81)]\n",
    "goldData = pd.melt(goldData, id_vars=['Address', 'Type'], value_vars=minutes, \n",
    "                   var_name='minute', value_name='gold')\n",
    "# Changet the minute variable into a integer.\n",
    "goldData.minute = goldData.minute.str.strip('min_').astype(int)\n",
    "goldData.head()"
   ]
  },
  {
   "cell_type": "code",
   "execution_count": 8,
   "metadata": {},
   "outputs": [
    {
     "data": {
      "text/plain": [
       "Text(0, 0.5, 'Gold')"
      ]
     },
     "execution_count": 8,
     "metadata": {},
     "output_type": "execute_result"
    },
    {
     "data": {
      "image/png": "[encoded data removed]",
      "text/plain": [
       "<Figure size 432x288 with 1 Axes>"
      ]
     },
     "metadata": {
      "needs_background": "light"
     },
     "output_type": "display_data"
    }
   ],
   "source": [
    "blueGold = goldData[goldData.Type == 'goldblue'].groupby('minute').gold.mean()\n",
    "redGold = goldData[goldData.Type == 'goldred'].groupby('minute').gold.mean()\n",
    "goldDiff = goldData[goldData.Type == 'golddiff'].groupby('minute').gold.mean()\n",
    "\n",
    "plt.plot(blueGold, 'b-')\n",
    "plt.plot(redGold, 'r-')\n",
    "plt.plot(goldDiff, 'g-')\n",
    "plt.xlabel('Minute')\n",
    "plt.ylabel('Gold')"
   ]
  },
  {
   "cell_type": "code",
   "execution_count": 9,
   "metadata": {},
   "outputs": [
    {
     "data": {
      "text/plain": [
       "array(['golddiff', 'goldblue', 'goldred', 'goldblueTop', 'goldblueJungle',\n",
       "       'goldblueMiddle', 'goldblueADC', 'goldblueSupport', 'goldredTop',\n",
       "       'goldredJungle', 'goldredMiddle', 'goldredADC', 'goldredSupport'],\n",
       "      dtype=object)"
      ]
     },
     "execution_count": 9,
     "metadata": {},
     "output_type": "execute_result"
    }
   ],
   "source": [
    "goldData.Type.unique()"
   ]
  },
  {
   "cell_type": "code",
   "execution_count": 11,
   "metadata": {},
   "outputs": [
    {
     "data": {
      "image/png": "[encoded data removed]",
      "text/plain": [
       "<Figure size 432x288 with 1 Axes>"
      ]
     },
     "metadata": {
      "needs_background": "light"
     },
     "output_type": "display_data"
    },
    {
     "data": {
      "image/png": "[encoded data removed]",
      "text/plain": [
       "<Figure size 432x288 with 1 Axes>"
      ]
     },
     "metadata": {
      "needs_background": "light"
     },
     "output_type": "display_data"
    },
    {
     "data": {
      "image/png": "[encoded data removed]",
      "text/plain": [
       "<Figure size 432x288 with 1 Axes>"
      ]
     },
     "metadata": {
      "needs_background": "light"
     },
     "output_type": "display_data"
    },
    {
     "data": {
      "image/png": "[encoded data removed]",
      "text/plain": [
       "<Figure size 432x288 with 1 Axes>"
      ]
     },
     "metadata": {
      "needs_background": "light"
     },
     "output_type": "display_data"
    },
    {
     "data": {
      "image/png": "[encoded data removed]",
      "text/plain": [
       "<Figure size 432x288 with 1 Axes>"
      ]
     },
     "metadata": {
      "needs_background": "light"
     },
     "output_type": "display_data"
    }
   ],
   "source": [
    "sections = ['Top', 'Jungle', 'Middle', 'ADC', 'Support']\n",
    "num_sections = len(sections)\n",
    "\n",
    "for i in range(num_sections):\n",
    "    plt.figure(i)\n",
    "    plt.plot(goldData[goldData.Type == 'goldblue' + sections[i]].groupby('minute').gold.mean(), 'b-')\n",
    "    plt.plot(goldData[goldData.Type == 'goldred' + sections[i]].groupby('minute').gold.mean(), 'r-')\n",
    "    plt.xlabel('Minute')\n",
    "    plt.ylabel('Gold')\n",
    "    plt.title(sections[i])"
   ]
  },
  {
   "cell_type": "code",
   "execution_count": 12,
   "metadata": {},
   "outputs": [
    {
     "data": {
      "text/plain": [
       "Text(0.5, 1.0, 'Difference in gold from the Jungle')"
      ]
     },
     "execution_count": 12,
     "metadata": {},
     "output_type": "execute_result"
    },
    {
     "data": {
      "image/png": "[encoded data removed]",
      "text/plain": [
       "<Figure size 432x288 with 1 Axes>"
      ]
     },
     "metadata": {
      "needs_background": "light"
     },
     "output_type": "display_data"
    }
   ],
   "source": [
    "goldJungleDiff = goldData[goldData.Type == 'goldblueJungle'].groupby('minute').mean() - \\\n",
    "                 goldData[goldData.Type == 'goldredJungle'].groupby('minute').mean()\n",
    "    \n",
    "plt.plot(goldJungleDiff, 'g-')\n",
    "plt.ylabel('Gold Diff')\n",
    "plt.xlabel('Minute')\n",
    "plt.title('Difference in gold from the Jungle')"
   ]
  },
  {
   "cell_type": "code",
   "execution_count": 13,
   "metadata": {},
   "outputs": [
    {
     "data": {
      "text/html": [
       "<div>\n",
       "<style scoped>\n",
       "    .dataframe tbody tr th:only-of-type {\n",
       "        vertical-align: middle;\n",
       "    }\n",
       "\n",
       "    .dataframe tbody tr th {\n",
       "        vertical-align: top;\n",
       "    }\n",
       "\n",
       "    .dataframe thead th {\n",
       "        text-align: right;\n",
       "    }\n",
       "</style>\n",
       "<table border=\"1\" class=\"dataframe\">\n",
       "  <thead>\n",
       "    <tr style=\"text-align: right;\">\n",
       "      <th></th>\n",
       "      <th>Address</th>\n",
       "      <th>Team</th>\n",
       "      <th>Time</th>\n",
       "      <th>Victim</th>\n",
       "      <th>Killer</th>\n",
       "      <th>Assist_1</th>\n",
       "      <th>Assist_2</th>\n",
       "      <th>Assist_3</th>\n",
       "      <th>Assist_4</th>\n",
       "      <th>x_pos</th>\n",
       "      <th>y_pos</th>\n",
       "    </tr>\n",
       "  </thead>\n",
       "  <tbody>\n",
       "    <tr>\n",
       "      <th>0</th>\n",
       "      <td>http://matchhistory.na.leagueoflegends.com/en/...</td>\n",
       "      <td>bKills</td>\n",
       "      <td>10.820</td>\n",
       "      <td>C9 Hai</td>\n",
       "      <td>TSM Bjergsen</td>\n",
       "      <td>NaN</td>\n",
       "      <td>NaN</td>\n",
       "      <td>NaN</td>\n",
       "      <td>NaN</td>\n",
       "      <td>9229</td>\n",
       "      <td>8469</td>\n",
       "    </tr>\n",
       "    <tr>\n",
       "      <th>1</th>\n",
       "      <td>http://matchhistory.na.leagueoflegends.com/en/...</td>\n",
       "      <td>bKills</td>\n",
       "      <td>16.286</td>\n",
       "      <td>C9 LemonNation</td>\n",
       "      <td>TSM WildTurtle</td>\n",
       "      <td>TSM Santorin</td>\n",
       "      <td>TSM Bjergsen</td>\n",
       "      <td>TSM Lustboy</td>\n",
       "      <td>NaN</td>\n",
       "      <td>13908</td>\n",
       "      <td>5960</td>\n",
       "    </tr>\n",
       "    <tr>\n",
       "      <th>2</th>\n",
       "      <td>http://matchhistory.na.leagueoflegends.com/en/...</td>\n",
       "      <td>bKills</td>\n",
       "      <td>18.733</td>\n",
       "      <td>C9 Hai</td>\n",
       "      <td>TSM Bjergsen</td>\n",
       "      <td>TSM Santorin</td>\n",
       "      <td>TSM WildTurtle</td>\n",
       "      <td>TSM Lustboy</td>\n",
       "      <td>NaN</td>\n",
       "      <td>8281</td>\n",
       "      <td>7889</td>\n",
       "    </tr>\n",
       "    <tr>\n",
       "      <th>3</th>\n",
       "      <td>http://matchhistory.na.leagueoflegends.com/en/...</td>\n",
       "      <td>bKills</td>\n",
       "      <td>18.880</td>\n",
       "      <td>C9 Meteos</td>\n",
       "      <td>TSM Dyrus</td>\n",
       "      <td>TSM Santorin</td>\n",
       "      <td>TSM Bjergsen</td>\n",
       "      <td>TSM WildTurtle</td>\n",
       "      <td>TSM Lustboy</td>\n",
       "      <td>8522</td>\n",
       "      <td>8895</td>\n",
       "    </tr>\n",
       "    <tr>\n",
       "      <th>4</th>\n",
       "      <td>http://matchhistory.na.leagueoflegends.com/en/...</td>\n",
       "      <td>bKills</td>\n",
       "      <td>27.005</td>\n",
       "      <td>C9 Balls</td>\n",
       "      <td>TSM Bjergsen</td>\n",
       "      <td>TSM Dyrus</td>\n",
       "      <td>TSM Santorin</td>\n",
       "      <td>TSM WildTurtle</td>\n",
       "      <td>TSM Lustboy</td>\n",
       "      <td>8902</td>\n",
       "      <td>7643</td>\n",
       "    </tr>\n",
       "  </tbody>\n",
       "</table>\n",
       "</div>"
      ],
      "text/plain": [
       "                                             Address    Team    Time  \\\n",
       "0  http://matchhistory.na.leagueoflegends.com/en/...  bKills  10.820   \n",
       "1  http://matchhistory.na.leagueoflegends.com/en/...  bKills  16.286   \n",
       "2  http://matchhistory.na.leagueoflegends.com/en/...  bKills  18.733   \n",
       "3  http://matchhistory.na.leagueoflegends.com/en/...  bKills  18.880   \n",
       "4  http://matchhistory.na.leagueoflegends.com/en/...  bKills  27.005   \n",
       "\n",
       "           Victim          Killer      Assist_1        Assist_2  \\\n",
       "0          C9 Hai    TSM Bjergsen           NaN             NaN   \n",
       "1  C9 LemonNation  TSM WildTurtle  TSM Santorin    TSM Bjergsen   \n",
       "2          C9 Hai    TSM Bjergsen  TSM Santorin  TSM WildTurtle   \n",
       "3       C9 Meteos       TSM Dyrus  TSM Santorin    TSM Bjergsen   \n",
       "4        C9 Balls    TSM Bjergsen     TSM Dyrus    TSM Santorin   \n",
       "\n",
       "         Assist_3     Assist_4  x_pos y_pos  \n",
       "0             NaN          NaN   9229  8469  \n",
       "1     TSM Lustboy          NaN  13908  5960  \n",
       "2     TSM Lustboy          NaN   8281  7889  \n",
       "3  TSM WildTurtle  TSM Lustboy   8522  8895  \n",
       "4  TSM WildTurtle  TSM Lustboy   8902  7643  "
      ]
     },
     "execution_count": 13,
     "metadata": {},
     "output_type": "execute_result"
    }
   ],
   "source": [
    "killData = pd.read_csv('kills.csv')\n",
    "killData.head()"
   ]
  },
  {
   "cell_type": "code",
   "execution_count": 15,
   "metadata": {},
   "outputs": [
    {
     "name": "stderr",
     "output_type": "stream",
     "text": [
      "C:\\Users\\asd84\\Anaconda3\\lib\\site-packages\\scipy\\stats\\stats.py:1713: FutureWarning: Using a non-tuple sequence for multidimensional indexing is deprecated; use `arr[tuple(seq)]` instead of `arr[seq]`. In the future this will be interpreted as an array index, `arr[np.array(seq)]`, which will result either in an error or a different result.\n",
      "  return np.add.reduce(sorted[indexer] * weights, axis=axis) / sumval\n"
     ]
    },
    {
     "data": {
      "text/plain": [
       "<matplotlib.axes._subplots.AxesSubplot at 0x20400efbda0>"
      ]
     },
     "execution_count": 15,
     "metadata": {},
     "output_type": "execute_result"
    },
    {
     "data": {
      "image/png": "[encoded data removed]",
      "text/plain": [
       "<Figure size 432x288 with 1 Axes>"
      ]
     },
     "metadata": {
      "needs_background": "light"
     },
     "output_type": "display_data"
    }
   ],
   "source": [
    "blueDeaths = killData[killData.Team == 'bKills']\n",
    "redDeaths = killData[killData.Team == 'rKills']\n",
    "blueDeaths = blueDeaths[blueDeaths.Time.notnull()]\n",
    "redDeaths = redDeaths[redDeaths.Time.notnull()]\n",
    "\n",
    "sns.distplot(blueDeaths.Time, kde=False, color='blue')\n",
    "sns.distplot(redDeaths.Time, kde=False, color='red')"
   ]
  },
  {
   "cell_type": "code",
   "execution_count": 16,
   "metadata": {},
   "outputs": [
    {
     "data": {
      "text/html": [
       "<div>\n",
       "<style scoped>\n",
       "    .dataframe tbody tr th:only-of-type {\n",
       "        vertical-align: middle;\n",
       "    }\n",
       "\n",
       "    .dataframe tbody tr th {\n",
       "        vertical-align: top;\n",
       "    }\n",
       "\n",
       "    .dataframe thead th {\n",
       "        text-align: right;\n",
       "    }\n",
       "</style>\n",
       "<table border=\"1\" class=\"dataframe\">\n",
       "  <thead>\n",
       "    <tr style=\"text-align: right;\">\n",
       "      <th></th>\n",
       "      <th>MatchHistory</th>\n",
       "      <th>ObjType</th>\n",
       "      <th>num_1</th>\n",
       "      <th>num_2</th>\n",
       "      <th>num_3</th>\n",
       "      <th>num_4</th>\n",
       "      <th>num_5</th>\n",
       "      <th>num_6</th>\n",
       "      <th>num_7</th>\n",
       "      <th>num_8</th>\n",
       "      <th>num_9</th>\n",
       "      <th>num_10</th>\n",
       "      <th>num_11</th>\n",
       "      <th>num_12</th>\n",
       "      <th>num_13</th>\n",
       "      <th>num_14</th>\n",
       "      <th>num_15</th>\n",
       "      <th>num_16</th>\n",
       "    </tr>\n",
       "  </thead>\n",
       "  <tbody>\n",
       "    <tr>\n",
       "      <th>0</th>\n",
       "      <td>http://matchhistory.na.leagueoflegends.com/en/...</td>\n",
       "      <td>bTowers</td>\n",
       "      <td>23.038</td>\n",
       "      <td>15.217</td>\n",
       "      <td>15.014</td>\n",
       "      <td>33.583</td>\n",
       "      <td>39.269</td>\n",
       "      <td>39.376</td>\n",
       "      <td>16.556</td>\n",
       "      <td>17.856</td>\n",
       "      <td>27.542</td>\n",
       "      <td>NaN</td>\n",
       "      <td>NaN</td>\n",
       "      <td>NaN</td>\n",
       "      <td>NaN</td>\n",
       "      <td>NaN</td>\n",
       "      <td>NaN</td>\n",
       "      <td>NaN</td>\n",
       "    </tr>\n",
       "    <tr>\n",
       "      <th>1</th>\n",
       "      <td>http://matchhistory.na.leagueoflegends.com/en/...</td>\n",
       "      <td>bTowers</td>\n",
       "      <td>33.018</td>\n",
       "      <td>34.766</td>\n",
       "      <td>23.239</td>\n",
       "      <td>20.058</td>\n",
       "      <td>15.306</td>\n",
       "      <td>25.564</td>\n",
       "      <td>28.989</td>\n",
       "      <td>NaN</td>\n",
       "      <td>NaN</td>\n",
       "      <td>NaN</td>\n",
       "      <td>NaN</td>\n",
       "      <td>NaN</td>\n",
       "      <td>NaN</td>\n",
       "      <td>NaN</td>\n",
       "      <td>NaN</td>\n",
       "      <td>NaN</td>\n",
       "    </tr>\n",
       "    <tr>\n",
       "      <th>2</th>\n",
       "      <td>http://matchhistory.na.leagueoflegends.com/en/...</td>\n",
       "      <td>bTowers</td>\n",
       "      <td>18.294</td>\n",
       "      <td>36.946</td>\n",
       "      <td>32.833</td>\n",
       "      <td>25.481</td>\n",
       "      <td>29.505</td>\n",
       "      <td>38.445</td>\n",
       "      <td>39.420</td>\n",
       "      <td>25.120</td>\n",
       "      <td>30.158</td>\n",
       "      <td>39.566</td>\n",
       "      <td>37.109</td>\n",
       "      <td>17.34</td>\n",
       "      <td>35.463</td>\n",
       "      <td>15.045</td>\n",
       "      <td>33.135</td>\n",
       "      <td>NaN</td>\n",
       "    </tr>\n",
       "    <tr>\n",
       "      <th>3</th>\n",
       "      <td>http://matchhistory.na.leagueoflegends.com/en/...</td>\n",
       "      <td>bTowers</td>\n",
       "      <td>22.879</td>\n",
       "      <td>18.541</td>\n",
       "      <td>19.941</td>\n",
       "      <td>38.770</td>\n",
       "      <td>NaN</td>\n",
       "      <td>NaN</td>\n",
       "      <td>NaN</td>\n",
       "      <td>NaN</td>\n",
       "      <td>NaN</td>\n",
       "      <td>NaN</td>\n",
       "      <td>NaN</td>\n",
       "      <td>NaN</td>\n",
       "      <td>NaN</td>\n",
       "      <td>NaN</td>\n",
       "      <td>NaN</td>\n",
       "      <td>NaN</td>\n",
       "    </tr>\n",
       "    <tr>\n",
       "      <th>4</th>\n",
       "      <td>http://matchhistory.na.leagueoflegends.com/en/...</td>\n",
       "      <td>bTowers</td>\n",
       "      <td>33.925</td>\n",
       "      <td>26.963</td>\n",
       "      <td>22.594</td>\n",
       "      <td>34.515</td>\n",
       "      <td>34.213</td>\n",
       "      <td>14.976</td>\n",
       "      <td>33.717</td>\n",
       "      <td>18.487</td>\n",
       "      <td>NaN</td>\n",
       "      <td>NaN</td>\n",
       "      <td>NaN</td>\n",
       "      <td>NaN</td>\n",
       "      <td>NaN</td>\n",
       "      <td>NaN</td>\n",
       "      <td>NaN</td>\n",
       "      <td>NaN</td>\n",
       "    </tr>\n",
       "  </tbody>\n",
       "</table>\n",
       "</div>"
      ],
      "text/plain": [
       "                                        MatchHistory  ObjType   num_1   num_2  \\\n",
       "0  http://matchhistory.na.leagueoflegends.com/en/...  bTowers  23.038  15.217   \n",
       "1  http://matchhistory.na.leagueoflegends.com/en/...  bTowers  33.018  34.766   \n",
       "2  http://matchhistory.na.leagueoflegends.com/en/...  bTowers  18.294  36.946   \n",
       "3  http://matchhistory.na.leagueoflegends.com/en/...  bTowers  22.879  18.541   \n",
       "4  http://matchhistory.na.leagueoflegends.com/en/...  bTowers  33.925  26.963   \n",
       "\n",
       "    num_3   num_4   num_5   num_6   num_7   num_8   num_9  num_10  num_11  \\\n",
       "0  15.014  33.583  39.269  39.376  16.556  17.856  27.542     NaN     NaN   \n",
       "1  23.239  20.058  15.306  25.564  28.989     NaN     NaN     NaN     NaN   \n",
       "2  32.833  25.481  29.505  38.445  39.420  25.120  30.158  39.566  37.109   \n",
       "3  19.941  38.770     NaN     NaN     NaN     NaN     NaN     NaN     NaN   \n",
       "4  22.594  34.515  34.213  14.976  33.717  18.487     NaN     NaN     NaN   \n",
       "\n",
       "   num_12  num_13  num_14  num_15  num_16  \n",
       "0     NaN     NaN     NaN     NaN     NaN  \n",
       "1     NaN     NaN     NaN     NaN     NaN  \n",
       "2   17.34  35.463  15.045  33.135     NaN  \n",
       "3     NaN     NaN     NaN     NaN     NaN  \n",
       "4     NaN     NaN     NaN     NaN     NaN  "
      ]
     },
     "execution_count": 16,
     "metadata": {},
     "output_type": "execute_result"
    }
   ],
   "source": [
    "objData = pd.read_csv('objValues.csv')\n",
    "objData.head()"
   ]
  },
  {
   "cell_type": "code",
   "execution_count": 17,
   "metadata": {},
   "outputs": [],
   "source": [
    "nums = ['num_' + str(x) for x in range(1, 17)]\n",
    "objData = pd.melt(objData, id_vars=['MatchHistory', 'ObjType'], value_vars=nums)"
   ]
  },
  {
   "cell_type": "code",
   "execution_count": 19,
   "metadata": {},
   "outputs": [
    {
     "data": {
      "text/html": [
       "<div>\n",
       "<style scoped>\n",
       "    .dataframe tbody tr th:only-of-type {\n",
       "        vertical-align: middle;\n",
       "    }\n",
       "\n",
       "    .dataframe tbody tr th {\n",
       "        vertical-align: top;\n",
       "    }\n",
       "\n",
       "    .dataframe thead th {\n",
       "        text-align: right;\n",
       "    }\n",
       "</style>\n",
       "<table border=\"1\" class=\"dataframe\">\n",
       "  <thead>\n",
       "    <tr style=\"text-align: right;\">\n",
       "      <th></th>\n",
       "      <th>MatchHistory</th>\n",
       "      <th>ObjType</th>\n",
       "      <th>num_1</th>\n",
       "      <th>num_2</th>\n",
       "      <th>num_3</th>\n",
       "      <th>num_4</th>\n",
       "      <th>num_5</th>\n",
       "      <th>num_6</th>\n",
       "      <th>num_7</th>\n",
       "      <th>num_8</th>\n",
       "      <th>num_9</th>\n",
       "      <th>num_10</th>\n",
       "      <th>num_11</th>\n",
       "      <th>num_12</th>\n",
       "      <th>num_13</th>\n",
       "      <th>num_14</th>\n",
       "      <th>num_15</th>\n",
       "      <th>num_16</th>\n",
       "    </tr>\n",
       "  </thead>\n",
       "  <tbody>\n",
       "    <tr>\n",
       "      <th>0</th>\n",
       "      <td>http://matchhistory.na.leagueoflegends.com/en/...</td>\n",
       "      <td>bTowers</td>\n",
       "      <td>23.038</td>\n",
       "      <td>15.217</td>\n",
       "      <td>15.014</td>\n",
       "      <td>33.583</td>\n",
       "      <td>39.269</td>\n",
       "      <td>39.376</td>\n",
       "      <td>16.556</td>\n",
       "      <td>17.856</td>\n",
       "      <td>27.542</td>\n",
       "      <td>NaN</td>\n",
       "      <td>NaN</td>\n",
       "      <td>NaN</td>\n",
       "      <td>NaN</td>\n",
       "      <td>NaN</td>\n",
       "      <td>NaN</td>\n",
       "      <td>NaN</td>\n",
       "    </tr>\n",
       "    <tr>\n",
       "      <th>1</th>\n",
       "      <td>http://matchhistory.na.leagueoflegends.com/en/...</td>\n",
       "      <td>bTowers</td>\n",
       "      <td>33.018</td>\n",
       "      <td>34.766</td>\n",
       "      <td>23.239</td>\n",
       "      <td>20.058</td>\n",
       "      <td>15.306</td>\n",
       "      <td>25.564</td>\n",
       "      <td>28.989</td>\n",
       "      <td>NaN</td>\n",
       "      <td>NaN</td>\n",
       "      <td>NaN</td>\n",
       "      <td>NaN</td>\n",
       "      <td>NaN</td>\n",
       "      <td>NaN</td>\n",
       "      <td>NaN</td>\n",
       "      <td>NaN</td>\n",
       "      <td>NaN</td>\n",
       "    </tr>\n",
       "    <tr>\n",
       "      <th>2</th>\n",
       "      <td>http://matchhistory.na.leagueoflegends.com/en/...</td>\n",
       "      <td>bTowers</td>\n",
       "      <td>18.294</td>\n",
       "      <td>36.946</td>\n",
       "      <td>32.833</td>\n",
       "      <td>25.481</td>\n",
       "      <td>29.505</td>\n",
       "      <td>38.445</td>\n",
       "      <td>39.420</td>\n",
       "      <td>25.120</td>\n",
       "      <td>30.158</td>\n",
       "      <td>39.566</td>\n",
       "      <td>37.109</td>\n",
       "      <td>17.34</td>\n",
       "      <td>35.463</td>\n",
       "      <td>15.045</td>\n",
       "      <td>33.135</td>\n",
       "      <td>NaN</td>\n",
       "    </tr>\n",
       "    <tr>\n",
       "      <th>3</th>\n",
       "      <td>http://matchhistory.na.leagueoflegends.com/en/...</td>\n",
       "      <td>bTowers</td>\n",
       "      <td>22.879</td>\n",
       "      <td>18.541</td>\n",
       "      <td>19.941</td>\n",
       "      <td>38.770</td>\n",
       "      <td>NaN</td>\n",
       "      <td>NaN</td>\n",
       "      <td>NaN</td>\n",
       "      <td>NaN</td>\n",
       "      <td>NaN</td>\n",
       "      <td>NaN</td>\n",
       "      <td>NaN</td>\n",
       "      <td>NaN</td>\n",
       "      <td>NaN</td>\n",
       "      <td>NaN</td>\n",
       "      <td>NaN</td>\n",
       "      <td>NaN</td>\n",
       "    </tr>\n",
       "    <tr>\n",
       "      <th>4</th>\n",
       "      <td>http://matchhistory.na.leagueoflegends.com/en/...</td>\n",
       "      <td>bTowers</td>\n",
       "      <td>33.925</td>\n",
       "      <td>26.963</td>\n",
       "      <td>22.594</td>\n",
       "      <td>34.515</td>\n",
       "      <td>34.213</td>\n",
       "      <td>14.976</td>\n",
       "      <td>33.717</td>\n",
       "      <td>18.487</td>\n",
       "      <td>NaN</td>\n",
       "      <td>NaN</td>\n",
       "      <td>NaN</td>\n",
       "      <td>NaN</td>\n",
       "      <td>NaN</td>\n",
       "      <td>NaN</td>\n",
       "      <td>NaN</td>\n",
       "      <td>NaN</td>\n",
       "    </tr>\n",
       "  </tbody>\n",
       "</table>\n",
       "</div>"
      ],
      "text/plain": [
       "                                        MatchHistory  ObjType   num_1   num_2  \\\n",
       "0  http://matchhistory.na.leagueoflegends.com/en/...  bTowers  23.038  15.217   \n",
       "1  http://matchhistory.na.leagueoflegends.com/en/...  bTowers  33.018  34.766   \n",
       "2  http://matchhistory.na.leagueoflegends.com/en/...  bTowers  18.294  36.946   \n",
       "3  http://matchhistory.na.leagueoflegends.com/en/...  bTowers  22.879  18.541   \n",
       "4  http://matchhistory.na.leagueoflegends.com/en/...  bTowers  33.925  26.963   \n",
       "\n",
       "    num_3   num_4   num_5   num_6   num_7   num_8   num_9  num_10  num_11  \\\n",
       "0  15.014  33.583  39.269  39.376  16.556  17.856  27.542     NaN     NaN   \n",
       "1  23.239  20.058  15.306  25.564  28.989     NaN     NaN     NaN     NaN   \n",
       "2  32.833  25.481  29.505  38.445  39.420  25.120  30.158  39.566  37.109   \n",
       "3  19.941  38.770     NaN     NaN     NaN     NaN     NaN     NaN     NaN   \n",
       "4  22.594  34.515  34.213  14.976  33.717  18.487     NaN     NaN     NaN   \n",
       "\n",
       "   num_12  num_13  num_14  num_15  num_16  \n",
       "0     NaN     NaN     NaN     NaN     NaN  \n",
       "1     NaN     NaN     NaN     NaN     NaN  \n",
       "2   17.34  35.463  15.045  33.135     NaN  \n",
       "3     NaN     NaN     NaN     NaN     NaN  \n",
       "4     NaN     NaN     NaN     NaN     NaN  "
      ]
     },
     "execution_count": 19,
     "metadata": {},
     "output_type": "execute_result"
    }
   ],
   "source": [
    "objData = pd.read_csv('objValues.csv')\n",
    "objData.head()"
   ]
  },
  {
   "cell_type": "code",
   "execution_count": 20,
   "metadata": {},
   "outputs": [],
   "source": [
    "nums = ['num_' + str(x) for x in range(1, 17)]\n",
    "objDataMelted = pd.melt(objData, id_vars=['ObjType'], value_vars=nums)\n",
    "objDataMelted = objDataMelted[objDataMelted.value.notnull()]"
   ]
  },
  {
   "cell_type": "code",
   "execution_count": 21,
   "metadata": {},
   "outputs": [
    {
     "name": "stderr",
     "output_type": "stream",
     "text": [
      "C:\\Users\\asd84\\Anaconda3\\lib\\site-packages\\scipy\\stats\\stats.py:1713: FutureWarning: Using a non-tuple sequence for multidimensional indexing is deprecated; use `arr[tuple(seq)]` instead of `arr[seq]`. In the future this will be interpreted as an array index, `arr[np.array(seq)]`, which will result either in an error or a different result.\n",
      "  return np.add.reduce(sorted[indexer] * weights, axis=axis) / sumval\n"
     ]
    },
    {
     "data": {
      "text/plain": [
       "<matplotlib.axes._subplots.AxesSubplot at 0x20400535c88>"
      ]
     },
     "execution_count": 21,
     "metadata": {},
     "output_type": "execute_result"
    },
    {
     "data": {
      "image/png": "[encoded data removed]",
      "text/plain": [
       "<Figure size 432x288 with 1 Axes>"
      ]
     },
     "metadata": {
      "needs_background": "light"
     },
     "output_type": "display_data"
    }
   ],
   "source": [
    "sns.distplot(objDataMelted[objDataMelted.ObjType == 'bTowers'].value, kde=False, color='blue')\n",
    "sns.distplot(objDataMelted[objDataMelted.ObjType == 'rTowers'].value, kde=False, color='red')"
   ]
  },
  {
   "cell_type": "code",
   "execution_count": null,
   "metadata": {},
   "outputs": [],
   "source": []
  },
  {
   "cell_type": "code",
   "execution_count": null,
   "metadata": {},
   "outputs": [],
   "source": []
  },
  {
   "cell_type": "code",
   "execution_count": null,
   "metadata": {},
   "outputs": [],
   "source": []
  },
  {
   "cell_type": "code",
   "execution_count": null,
   "metadata": {},
   "outputs": [],
   "source": []
  },
  {
   "cell_type": "code",
   "execution_count": null,
   "metadata": {},
   "outputs": [],
   "source": []
  }
 ],
 "metadata": {
  "kernelspec": {
   "display_name": "Python 3",
   "language": "python",
   "name": "python3"
  },
  "language_info": {
   "codemirror_mode": {
    "name": "ipython",
    "version": 3
   },
   "file_extension": ".py",
   "mimetype": "text/x-python",
   "name": "python",
   "nbconvert_exporter": "python",
   "pygments_lexer": "ipython3",
   "version": "3.7.0"
  }
 },
 "nbformat": 4,
 "nbformat_minor": 2
}
